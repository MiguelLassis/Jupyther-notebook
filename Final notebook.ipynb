{
 "cells": [
  {
   "cell_type": "markdown",
   "metadata": {},
   "source": [
    "<center>\n",
    "    <img src=\"https://s3-api.us-geo.objectstorage.softlayer.net/cf-courses-data/CognitiveClass/Logos/organization_logo/organization_logo.png\" width=\"300\" alt=\"cognitiveclass.ai logo\"  />\n",
    "</center>\n"
   ]
  },
  {
   "cell_type": "markdown",
   "metadata": {},
   "source": [
    "#### Add your code below following the instructions given in the course\n"
   ]
  },
  {
   "cell_type": "markdown",
   "metadata": {},
   "source": [
    "## H1 My Jupyter Notebook on IBM Watson Studio"
   ]
  },
  {
   "cell_type": "markdown",
   "metadata": {
    "tags": []
   },
   "source": [
    "**Miguel Lassis**\n",
    "\n",
    "Actually I am a highschool student"
   ]
  },
  {
   "cell_type": "markdown",
   "metadata": {},
   "source": [
    "*I am interested in data science because I can use it for my future in many different types of fields, like economy, financial engineering and statistics.*"
   ]
  },
  {
   "cell_type": "markdown",
   "metadata": {},
   "source": [
    "## H3 In the next cell my code is supposed to substract this ecuation: 15 -  8 =  ?"
   ]
  },
  {
   "cell_type": "code",
   "execution_count": 2,
   "metadata": {},
   "outputs": [
    {
     "name": "stdout",
     "output_type": "stream",
     "text": [
      "7\n"
     ]
    }
   ],
   "source": [
    "A = 15\n",
    "C = 8\n",
    "print ( A - C )"
   ]
  },
  {
   "cell_type": "markdown",
   "metadata": {},
   "source": [
    "[link https://www.coursera.org/learn/open-source-tools-for-data-science/ungradedWidget/c1F5I/instructions-create-and-share-your-jupyter-notebook]\n",
    "\n",
    "Inline-style: \n",
    "![](![https://www.google.com/url?sa=i&url=https%3A%2F%2Fblog.hubspot.es%2Fmarketing%2Flogos-creativos&psig=AOvVaw2MBMFY0b0nYjeJHcfrjHHB&ust=1664311311338000&source=images&cd=vfe&ved=0CAwQjRxqFwoTCJihxfaos_oCFQAAAAAdAAAAABAJ) \"Logo Title Text\")\n",
    "\n",
    "| Tables        | Example         | #1 |\n",
    "| ------------- |:-------------:| -----:|\n",
    "| yes      | 30         | #2 |\n",
    "| no      | 70        | #3 |\n",
    "\n"
   ]
  },
  {
   "cell_type": "code",
   "execution_count": null,
   "metadata": {},
   "outputs": [],
   "source": []
  }
 ],
 "metadata": {
  "kernelspec": {
   "display_name": "Python",
   "language": "python",
   "name": "conda-env-python-py"
  },
  "language_info": {
   "codemirror_mode": {
    "name": "ipython",
    "version": 3
   },
   "file_extension": ".py",
   "mimetype": "text/x-python",
   "name": "python",
   "nbconvert_exporter": "python",
   "pygments_lexer": "ipython3",
   "version": "3.7.12"
  }
 },
 "nbformat": 4,
 "nbformat_minor": 4
}
